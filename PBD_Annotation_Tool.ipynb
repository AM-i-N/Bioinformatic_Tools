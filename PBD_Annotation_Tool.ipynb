{
 "cells": [
  {
   "cell_type": "code",
   "execution_count": null,
   "id": "a204aed8",
   "metadata": {
    "tags": []
   },
   "outputs": [],
   "source": [
    "\"\"\"A script to reterive Uniprot-ID and the associated name of proteins from RCSB's REST API\"\"\"\n",
    "#could also be used to reterive other info regarding pdb structures.#\n",
    "#for more uses of the RCSB's REST API visit: https://data.rcsb.org/redoc/index.html#\n",
    "#==================================================================================#\n",
    "import requests\n",
    "import warnings\n",
    "import json\n",
    "import pandas as pd\n",
    "from tqdm import tqdm\n",
    "import time\n",
    "warnings.filterwarnings('ignore')"
   ]
  },
  {
   "cell_type": "markdown",
   "id": "dbbfb203",
   "metadata": {},
   "source": [
    "## Part1- Data Collection ##"
   ]
  },
  {
   "cell_type": "code",
   "execution_count": null,
   "id": "c726657b",
   "metadata": {
    "tags": []
   },
   "outputs": [],
   "source": [
    "#Access check to RCSB#\n",
    "a = requests.get('https://data.rcsb.org/redoc/index.html', verify=False)\n",
    "print(a.status_code) ## status code 200 means OK.#"
   ]
  },
  {
   "cell_type": "code",
   "execution_count": null,
   "id": "cba00cfa",
   "metadata": {
    "tags": []
   },
   "outputs": [],
   "source": [
    "#read in your pdb list data pereferably in csv format#\n",
    "df = pd.read_csv('CSV_pdbandligand.csv', encoding='utf-8') "
   ]
  },
  {
   "cell_type": "code",
   "execution_count": null,
   "id": "77919d7e",
   "metadata": {},
   "outputs": [],
   "source": [
    "#Remove the duplicates from the database#\n",
    "df2=df.drop_duplicates()"
   ]
  },
  {
   "cell_type": "code",
   "execution_count": null,
   "id": "09c2f38d",
   "metadata": {
    "tags": []
   },
   "outputs": [],
   "source": [
    "pdblist = df2['PDB-ID'].tolist()\n",
    "#writes the PDB-ID column to a defined list#"
   ]
  },
  {
   "cell_type": "code",
   "execution_count": null,
   "id": "0a91777c",
   "metadata": {},
   "outputs": [],
   "source": [
    "##Uniprot-ID extractor##\n",
    "from tqdm import tqdm\n",
    "import time\n",
    "for pdb in tqdm(pdblist):\n",
    "    ldata=requests.get(url=f'https://data.rcsb.org/rest/v1/core/uniprot/{pdb}/1', verify=False).json()\n",
    "    try:\n",
    "        id_data=ldata[0]\n",
    "        with open('output_id.txt', \"a\") as f:\n",
    "            print(pdb, id_data['rcsb_id'], file=f)\n",
    "    except Exception as e:\n",
    "        with open('output_id.txt', \"a\") as f:\n",
    "            print(pdb, 'NaN', e, file=f)  "
   ]
  },
  {
   "cell_type": "code",
   "execution_count": null,
   "id": "79261566",
   "metadata": {},
   "outputs": [],
   "source": [
    "##Uniprot-Name extractor##\n",
    "from tqdm import tqdm\n",
    "import time\n",
    "for pdb in tqdm(pdblist):\n",
    "    ldata=requests.get(url=f'https://data.rcsb.org/rest/v1/core/uniprot/{pdb}/1', verify=False).json()\n",
    "    try:\n",
    "        name_data=ldata[0]\n",
    "        with open('output_name.txt', \"a\") as f:\n",
    "            print(pdb, name_data['rcsb_uniprot_protein']['name']['value'], file=f)\n",
    "    except Exception as e:\n",
    "        with open('output_name.txt', \"a\") as f:\n",
    "            print(pdb, 'NaN', e, file=f)"
   ]
  },
  {
   "cell_type": "markdown",
   "id": "659b1b97",
   "metadata": {},
   "source": [
    "## Part2- String Manipulation ## \n",
    "I used Knime and the line reader and string manipulation node to read-in and edit the generated text file.<br> \n",
    "`String manipulation node with the following syntax: substr(str, start[0], length[4]) extracts the PDB-ID to a new column.`\n",
    "> e.g. if your line is: \"1q0k P80734\" the output would be \"1q0k\".<br>    \n",
    "Next use `substr(str, start[5])` to append the Uniprot-ID to another column.<br>\n",
    "Finally filter out original columns of data and export the the file as a .csv. "
   ]
  },
  {
   "cell_type": "markdown",
   "id": "55a3fae3",
   "metadata": {},
   "source": [
    "## Part3- Data Mapping ##"
   ]
  },
  {
   "cell_type": "code",
   "execution_count": null,
   "id": "35cfc398",
   "metadata": {},
   "outputs": [],
   "source": [
    "#Read-in your newly generated .csv file for Uniprot-IDs or Names#\n",
    "Dictdf = pd.read_csv('NewNameDict/Mapped.csv', encoding='utf-8')"
   ]
  },
  {
   "cell_type": "markdown",
   "id": "7469784b",
   "metadata": {},
   "source": [
    "### Only use `one` of the bellow mappings at anytime ###"
   ]
  },
  {
   "cell_type": "code",
   "execution_count": null,
   "id": "3355e59f",
   "metadata": {},
   "outputs": [],
   "source": [
    "map_dict = dict(zip(df['PDB-ID'], df['Uniprot-ID']))\n",
    "#Maps the PDB-ID to the corresponding Uniprot-ID#"
   ]
  },
  {
   "cell_type": "code",
   "execution_count": null,
   "id": "fee804bd",
   "metadata": {},
   "outputs": [],
   "source": [
    "map_dict = dict(zip(df['PDB-ID'], df['Uniprot-Name']))\n",
    "#Maps the PDB-ID to the corresponding Uniprot-Name#"
   ]
  },
  {
   "cell_type": "markdown",
   "id": "c9f4943e",
   "metadata": {},
   "source": [
    "### ____________________________________ ###"
   ]
  },
  {
   "cell_type": "code",
   "execution_count": null,
   "id": "fbedffc9",
   "metadata": {},
   "outputs": [],
   "source": [
    "#Optional: you can save this dictionary file into a text file to use later#\n",
    "with open('MyDictionary.txt', \"w\") as f:\n",
    "            print(map_dict, file=f)\n",
    "#Careful with which function you use before exportig#"
   ]
  },
  {
   "cell_type": "code",
   "execution_count": null,
   "id": "5903fe63",
   "metadata": {},
   "outputs": [],
   "source": [
    "#This reads the original .csv which includes the duplicates#\n",
    "pdblist_mapping= df['PDB-ID'].tolist()"
   ]
  },
  {
   "cell_type": "code",
   "execution_count": null,
   "id": "1a82772a",
   "metadata": {},
   "outputs": [],
   "source": [
    "mapped_list=[map_dict[k] for k in pdblist_mapping if k in map_dict]\n",
    "#for every pdb entry maps the corresponding uniprot ID/Name#"
   ]
  },
  {
   "cell_type": "code",
   "execution_count": null,
   "id": "e70abcf0",
   "metadata": {},
   "outputs": [],
   "source": [
    "#Parse the newly made list into a dataframe#\n",
    "Mapped_df = pd.DataFrame (mapped_list, columns = ['Uniprot-ID/Name'], index=False)"
   ]
  },
  {
   "cell_type": "code",
   "execution_count": null,
   "id": "63279acc",
   "metadata": {},
   "outputs": [],
   "source": [
    "#Export the results as a new .csv file#\n",
    "Mapped_df.to_csv('Mapped_/Uniprot-ID/Names.csv')"
   ]
  }
 ],
 "metadata": {
  "kernelspec": {
   "display_name": "Python 3 (ipykernel)",
   "language": "python",
   "name": "python3"
  },
  "language_info": {
   "codemirror_mode": {
    "name": "ipython",
    "version": 3
   },
   "file_extension": ".py",
   "mimetype": "text/x-python",
   "name": "python",
   "nbconvert_exporter": "python",
   "pygments_lexer": "ipython3",
   "version": "3.9.13"
  }
 },
 "nbformat": 4,
 "nbformat_minor": 5
}
